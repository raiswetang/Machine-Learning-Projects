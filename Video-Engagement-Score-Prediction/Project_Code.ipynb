{
 "cells": [
  {
   "cell_type": "markdown",
   "id": "0938c244",
   "metadata": {},
   "source": [
    "## Step 1: Importing the Relevant Libraries"
   ]
  },
  {
   "cell_type": "code",
   "execution_count": 2,
   "id": "0fdc6138",
   "metadata": {},
   "outputs": [],
   "source": [
    "import pandas as pd\n",
    "import numpy as np\n",
    "import matplotlib.pyplot as plt\n",
    "import seaborn as sns\n",
    "\n",
    "import sklearn\n",
    "from sklearn.metrics import r2_score\n",
    "from sklearn.model_selection import KFold,train_test_split\n",
    "from sklearn.preprocessing import LabelEncoder,RobustScaler\n",
    "from sklearn.linear_model import LinearRegression\n",
    "import statsmodels.regression.linear_model as stat\n",
    "\n",
    "%matplotlib inline\n",
    "\n",
    "import warnings\n",
    "warnings.filterwarnings('always')\n",
    "warnings.filterwarnings('ignore')"
   ]
  },
  {
   "cell_type": "markdown",
   "id": "8412eb50",
   "metadata": {},
   "source": [
    "## Data Inspection"
   ]
  },
  {
   "cell_type": "code",
   "execution_count": null,
   "id": "24f11b7c",
   "metadata": {},
   "outputs": [],
   "source": [
    "# Loading train and test data\n",
    "df_train = pd.read_csv(\"train_0OECtn8.csv\")\n",
    "df_test = pd.read_csv(\"test_1zqHu22.csv\")"
   ]
  },
  {
   "cell_type": "code",
   "execution_count": null,
   "id": "c58f57fa",
   "metadata": {},
   "outputs": [],
   "source": [
    "# Train and test data shape\n",
    "print(\"Shape of train dataset : {}\".format(df_train.shape))\n",
    "print(\"Shape of test dataset : {}\".format(df_test.shape))"
   ]
  },
  {
   "cell_type": "code",
   "execution_count": null,
   "id": "2259f9b8",
   "metadata": {},
   "outputs": [],
   "source": [
    "# High level information of train data\n",
    "df_train.info()"
   ]
  },
  {
   "cell_type": "markdown",
   "id": "eb564949",
   "metadata": {},
   "source": [
    "High level information of the train data set :\n",
    "1. There are 8 numerical attributes and 2 categorical attributes\n",
    "2. There is no null values/missing values present in any column as Non-Null Count of each column = Total entries"
   ]
  },
  {
   "cell_type": "code",
   "execution_count": 5,
   "id": "ce8f2eb1",
   "metadata": {},
   "outputs": [
    {
     "name": "stdout",
     "output_type": "stream",
     "text": [
      "<class 'pandas.core.frame.DataFrame'>\n",
      "RangeIndex: 11121 entries, 0 to 11120\n",
      "Data columns (total 9 columns):\n",
      " #   Column       Non-Null Count  Dtype \n",
      "---  ------       --------------  ----- \n",
      " 0   row_id       11121 non-null  int64 \n",
      " 1   user_id      11121 non-null  int64 \n",
      " 2   category_id  11121 non-null  int64 \n",
      " 3   video_id     11121 non-null  int64 \n",
      " 4   age          11121 non-null  int64 \n",
      " 5   gender       11121 non-null  object\n",
      " 6   profession   11121 non-null  object\n",
      " 7   followers    11121 non-null  int64 \n",
      " 8   views        11121 non-null  int64 \n",
      "dtypes: int64(7), object(2)\n",
      "memory usage: 782.1+ KB\n"
     ]
    }
   ],
   "source": [
    "# High level information of test data\n",
    "df_test.info()"
   ]
  },
  {
   "cell_type": "markdown",
   "id": "cfe500aa",
   "metadata": {},
   "source": [
    "High level information of the test data set :\n",
    "1. There are 7 numerical attributes and 2 categorical attributes\n",
    "2. There is no null values/missing values present in any column as Non-Null Count of each column = Total entries"
   ]
  },
  {
   "cell_type": "code",
   "execution_count": 6,
   "id": "291fa35b",
   "metadata": {},
   "outputs": [
    {
     "name": "stdout",
     "output_type": "stream",
     "text": [
      "Train data attributes : ['row_id' 'user_id' 'category_id' 'video_id' 'age' 'gender' 'profession'\n",
      " 'followers' 'views' 'engagement_score']\n",
      "Test data attributes : ['row_id' 'user_id' 'category_id' 'video_id' 'age' 'gender' 'profession'\n",
      " 'followers' 'views']\n"
     ]
    }
   ],
   "source": [
    "print(\"Train data attributes : {}\".format(df_train.columns.values))\n",
    "print(\"Test data attributes : {}\".format(df_test.columns.values))"
   ]
  },
  {
   "cell_type": "markdown",
   "id": "cca9cc39",
   "metadata": {},
   "source": [
    "Finding:\n",
    "1. engagement_score is target value that we need our model to predict"
   ]
  },
  {
   "cell_type": "markdown",
   "id": "8d70d86f",
   "metadata": {},
   "source": [
    "## Exploratory Data Analysis"
   ]
  },
  {
   "cell_type": "code",
   "execution_count": 7,
   "id": "03c40fb8",
   "metadata": {},
   "outputs": [
    {
     "data": {
      "text/html": [
       "<div>\n",
       "<style scoped>\n",
       "    .dataframe tbody tr th:only-of-type {\n",
       "        vertical-align: middle;\n",
       "    }\n",
       "\n",
       "    .dataframe tbody tr th {\n",
       "        vertical-align: top;\n",
       "    }\n",
       "\n",
       "    .dataframe thead th {\n",
       "        text-align: right;\n",
       "    }\n",
       "</style>\n",
       "<table border=\"1\" class=\"dataframe\">\n",
       "  <thead>\n",
       "    <tr style=\"text-align: right;\">\n",
       "      <th></th>\n",
       "      <th>row_id</th>\n",
       "      <th>user_id</th>\n",
       "      <th>category_id</th>\n",
       "      <th>video_id</th>\n",
       "      <th>age</th>\n",
       "      <th>gender</th>\n",
       "      <th>profession</th>\n",
       "      <th>followers</th>\n",
       "      <th>views</th>\n",
       "      <th>engagement_score</th>\n",
       "    </tr>\n",
       "  </thead>\n",
       "  <tbody>\n",
       "    <tr>\n",
       "      <th>0</th>\n",
       "      <td>1</td>\n",
       "      <td>19990</td>\n",
       "      <td>37</td>\n",
       "      <td>128</td>\n",
       "      <td>24</td>\n",
       "      <td>Male</td>\n",
       "      <td>Student</td>\n",
       "      <td>180</td>\n",
       "      <td>1000</td>\n",
       "      <td>4.33</td>\n",
       "    </tr>\n",
       "    <tr>\n",
       "      <th>1</th>\n",
       "      <td>2</td>\n",
       "      <td>5304</td>\n",
       "      <td>32</td>\n",
       "      <td>132</td>\n",
       "      <td>14</td>\n",
       "      <td>Female</td>\n",
       "      <td>Student</td>\n",
       "      <td>330</td>\n",
       "      <td>714</td>\n",
       "      <td>1.79</td>\n",
       "    </tr>\n",
       "    <tr>\n",
       "      <th>2</th>\n",
       "      <td>3</td>\n",
       "      <td>1840</td>\n",
       "      <td>12</td>\n",
       "      <td>24</td>\n",
       "      <td>19</td>\n",
       "      <td>Male</td>\n",
       "      <td>Student</td>\n",
       "      <td>180</td>\n",
       "      <td>138</td>\n",
       "      <td>4.35</td>\n",
       "    </tr>\n",
       "    <tr>\n",
       "      <th>3</th>\n",
       "      <td>4</td>\n",
       "      <td>12597</td>\n",
       "      <td>23</td>\n",
       "      <td>112</td>\n",
       "      <td>19</td>\n",
       "      <td>Male</td>\n",
       "      <td>Student</td>\n",
       "      <td>220</td>\n",
       "      <td>613</td>\n",
       "      <td>3.77</td>\n",
       "    </tr>\n",
       "    <tr>\n",
       "      <th>4</th>\n",
       "      <td>5</td>\n",
       "      <td>13626</td>\n",
       "      <td>23</td>\n",
       "      <td>112</td>\n",
       "      <td>27</td>\n",
       "      <td>Male</td>\n",
       "      <td>Working Professional</td>\n",
       "      <td>220</td>\n",
       "      <td>613</td>\n",
       "      <td>3.13</td>\n",
       "    </tr>\n",
       "  </tbody>\n",
       "</table>\n",
       "</div>"
      ],
      "text/plain": [
       "   row_id  user_id  category_id  video_id  age  gender            profession  \\\n",
       "0       1    19990           37       128   24    Male               Student   \n",
       "1       2     5304           32       132   14  Female               Student   \n",
       "2       3     1840           12        24   19    Male               Student   \n",
       "3       4    12597           23       112   19    Male               Student   \n",
       "4       5    13626           23       112   27    Male  Working Professional   \n",
       "\n",
       "   followers  views  engagement_score  \n",
       "0        180   1000              4.33  \n",
       "1        330    714              1.79  \n",
       "2        180    138              4.35  \n",
       "3        220    613              3.77  \n",
       "4        220    613              3.13  "
      ]
     },
     "execution_count": 7,
     "metadata": {},
     "output_type": "execute_result"
    }
   ],
   "source": [
    "# See first 5 rows of train data\n",
    "df_train.head()"
   ]
  },
  {
   "cell_type": "code",
   "execution_count": 8,
   "id": "11773ff3",
   "metadata": {},
   "outputs": [
    {
     "name": "stdout",
     "output_type": "stream",
     "text": [
      "Unique values in row_id : 89197\n",
      "Unique values in user_id : 27734\n",
      "Unique values in category_id : 47\n",
      "Unique values in video_id : 175\n",
      "Unique values in age : 58\n",
      "Unique values in gender : 2\n",
      "Unique values in profession : 3\n",
      "Unique values in followers : 17\n",
      "Unique values in views : 43\n",
      "Unique values in engagement_score : 229\n"
     ]
    }
   ],
   "source": [
    "# Checking unique values count in each attributes\n",
    "for col in df_train.columns:\n",
    "    print(\"Unique values in {} : {}\".format(col,len(df_train[col].unique())))"
   ]
  },
  {
   "cell_type": "markdown",
   "id": "d2576ee9",
   "metadata": {},
   "source": [
    "Findings:\n",
    "1. Row ID values are unique identifier of records. Hence it can be removed.\n",
    "2. User_ID also uniquely identifies user and it can also be removed as we can not predic anything based on this.\n",
    "3. We have 47 categories of videos.\n",
    "4. We have users from 3 different profession."
   ]
  },
  {
   "cell_type": "markdown",
   "id": "b4c9511c",
   "metadata": {},
   "source": [
    "#### Univariate Analysis"
   ]
  },
  {
   "cell_type": "code",
   "execution_count": 9,
   "id": "2aea493f",
   "metadata": {},
   "outputs": [
    {
     "data": {
      "text/plain": [
       "<AxesSubplot:title={'center':'Category wise video count'}, xlabel='category_id', ylabel='count'>"
      ]
     },
     "execution_count": 9,
     "metadata": {},
     "output_type": "execute_result"
    },
    {
     "data": {
      "image/png": "[encoded data removed]",
      "text/plain": [
       "<Figure size 1152x576 with 1 Axes>"
      ]
     },
     "metadata": {},
     "output_type": "display_data"
    }
   ],
   "source": [
    "# Category_ID : Will plt bar plot and check videos under each category\n",
    "plt.style.use('ggplot')\n",
    "plt.figure(figsize=(16,8))\n",
    "plt.title(\"Category wise video count\")\n",
    "sns.countplot(data=df_train,x='category_id')"
   ]
  },
  {
   "cell_type": "markdown",
   "id": "e1f546cc",
   "metadata": {},
   "source": [
    "Finding:\n",
    " 1. Category = 5 has hieghest number of videos in test data set\n",
    " 2. Category = 47 has less number of videos in train data set"
   ]
  },
  {
   "cell_type": "code",
   "execution_count": 10,
   "id": "6e5a28a5",
   "metadata": {},
   "outputs": [
    {
     "data": {
      "text/plain": [
       "<AxesSubplot:title={'center':'User age distribution'}, xlabel='age', ylabel='Count'>"
      ]
     },
     "execution_count": 10,
     "metadata": {},
     "output_type": "execute_result"
    },
    {
     "data": {
      "image/png": "[encoded data removed]",
      "text/plain": [
       "<Figure size 1152x576 with 1 Axes>"
      ]
     },
     "metadata": {},
     "output_type": "display_data"
    }
   ],
   "source": [
    "# Age Distribution\n",
    "plt.style.use('ggplot')\n",
    "plt.figure(figsize=(16,8))\n",
    "plt.title(\"User age distribution\")\n",
    "sns.histplot(df_train.age,kde=True,bins=50)"
   ]
  },
  {
   "cell_type": "markdown",
   "id": "12d691ee",
   "metadata": {},
   "source": [
    "Findings:\n",
    "1. We can see there are two peaks in histogram. One around 18 years and another around 32 years. We can think of making two groups as age<=27 and age>27\n",
    "\n"
   ]
  },
  {
   "cell_type": "code",
   "execution_count": 11,
   "id": "ef9a2af2",
   "metadata": {},
   "outputs": [
    {
     "data": {
      "image/png": "[encoded data removed]",
      "text/plain": [
       "<Figure size 288x288 with 1 Axes>"
      ]
     },
     "metadata": {},
     "output_type": "display_data"
    }
   ],
   "source": [
    "# Gender distibution\n",
    "plt.style.use('ggplot')\n",
    "plt.figure(figsize=(4,4))\n",
    "plt.title(\"Gender distribution\")\n",
    "df_train.groupby('gender').size().plot(kind='pie', autopct='%.2f')\n",
    "plt.show()"
   ]
  },
  {
   "cell_type": "markdown",
   "id": "e77785dc",
   "metadata": {},
   "source": [
    "Findings:\n",
    "1. Train data has 58.74% male users and 41.26% female users\n",
    "1. Total number of male user are more than Female users. But difference is not much."
   ]
  },
  {
   "cell_type": "code",
   "execution_count": 12,
   "id": "a66af5dc",
   "metadata": {},
   "outputs": [
    {
     "data": {
      "text/plain": [
       "<AxesSubplot:title={'center':'Profession distribution'}, ylabel='None'>"
      ]
     },
     "execution_count": 12,
     "metadata": {},
     "output_type": "execute_result"
    },
    {
     "data": {
      "image/png": "[encoded data removed]",
      "text/plain": [
       "<Figure size 288x288 with 1 Axes>"
      ]
     },
     "metadata": {},
     "output_type": "display_data"
    }
   ],
   "source": [
    "# Gender distibution\n",
    "plt.style.use('ggplot')\n",
    "plt.figure(figsize=(4,4))\n",
    "plt.title(\"Profession distribution\")\n",
    "df_train.groupby('profession').size().plot(kind='pie', autopct='%.2f')"
   ]
  },
  {
   "cell_type": "markdown",
   "id": "458dae8a",
   "metadata": {},
   "source": [
    "Findings:\n",
    "1. Half of the users are Students\n",
    "2. Working Professional corresponds to 19.87% of total users"
   ]
  },
  {
   "cell_type": "code",
   "execution_count": 13,
   "id": "a1f7a699",
   "metadata": {},
   "outputs": [
    {
     "data": {
      "text/plain": [
       "<AxesSubplot:title={'center':'Views distribution'}, xlabel='views', ylabel='Count'>"
      ]
     },
     "execution_count": 13,
     "metadata": {},
     "output_type": "execute_result"
    },
    {
     "data": {
      "image/png": "[encoded data removed]",
      "text/plain": [
       "<Figure size 720x576 with 1 Axes>"
      ]
     },
     "metadata": {},
     "output_type": "display_data"
    }
   ],
   "source": [
    "# Views Distribution\n",
    "plt.style.use('ggplot')\n",
    "plt.figure(figsize=(10,8))\n",
    "plt.title(\"Views distribution\")\n",
    "sns.histplot(df_train.views,bins=10)"
   ]
  },
  {
   "cell_type": "markdown",
   "id": "7e666606",
   "metadata": {},
   "source": [
    "Findings:\n",
    "1. We can see two peaks in views. There are many categories which have total views\n",
    "   between 200-300 and 600-700"
   ]
  },
  {
   "cell_type": "code",
   "execution_count": 14,
   "id": "ee78346c",
   "metadata": {},
   "outputs": [
    {
     "data": {
      "text/plain": [
       "<AxesSubplot:title={'center':'Followers Distribution distribution'}, xlabel='followers', ylabel='Count'>"
      ]
     },
     "execution_count": 14,
     "metadata": {},
     "output_type": "execute_result"
    },
    {
     "data": {
      "image/png": "[encoded data removed]",
      "text/plain": [
       "<Figure size 720x576 with 1 Axes>"
      ]
     },
     "metadata": {},
     "output_type": "display_data"
    }
   ],
   "source": [
    "plt.style.use('ggplot')\n",
    "plt.figure(figsize=(10,8))\n",
    "plt.title(\"Followers Distribution distribution\")\n",
    "sns.histplot(df_train.followers,bins=10)"
   ]
  },
  {
   "cell_type": "markdown",
   "id": "8d763ba3",
   "metadata": {},
   "source": [
    "Findings:\n",
    "1. There are many categories which have total followers between 225 to 275"
   ]
  },
  {
   "cell_type": "code",
   "execution_count": 15,
   "id": "baf9d24d",
   "metadata": {},
   "outputs": [
    {
     "data": {
      "text/plain": [
       "<AxesSubplot:title={'center':'Engagement Score distribution'}, xlabel='engagement_score', ylabel='Density'>"
      ]
     },
     "execution_count": 15,
     "metadata": {},
     "output_type": "execute_result"
    },
    {
     "data": {
      "image/png": "[encoded data removed]",
      "text/plain": [
       "<Figure size 720x432 with 1 Axes>"
      ]
     },
     "metadata": {},
     "output_type": "display_data"
    }
   ],
   "source": [
    "# Diribution of engagement score\n",
    "plt.style.use('ggplot')\n",
    "plt.figure(figsize=(10,6))\n",
    "plt.title(\"Engagement Score distribution\")\n",
    "sns.distplot(df_train.engagement_score,kde=True,bins=20)"
   ]
  },
  {
   "cell_type": "markdown",
   "id": "419e4f03",
   "metadata": {},
   "source": [
    "Findings:\n",
    "1. We can see engagement score distribution is left skewed. \n",
    "2. There are few videos whch have engagement score of a user is less than 1.\n",
    "3. Engagement score less than 1 seems outliers. We can see explore those data and think of removing it.\n",
    "3. Also we can use transformation to try making in close to normal distribution."
   ]
  },
  {
   "cell_type": "code",
   "execution_count": 16,
   "id": "03b9c284",
   "metadata": {},
   "outputs": [
    {
     "data": {
      "text/plain": [
       "<AxesSubplot:title={'center':'Engagement Score distribution'}, ylabel='engagement_score'>"
      ]
     },
     "execution_count": 16,
     "metadata": {},
     "output_type": "execute_result"
    },
    {
     "data": {
      "image/png": "[encoded data removed]",
      "text/plain": [
       "<Figure size 432x432 with 1 Axes>"
      ]
     },
     "metadata": {},
     "output_type": "display_data"
    }
   ],
   "source": [
    "# Box plot to check outliers in engagement_score\n",
    "plt.style.use('ggplot')\n",
    "plt.figure(figsize=(6,6))\n",
    "plt.title(\"Engagement Score distribution\")\n",
    "sns.boxplot(y=df_train.engagement_score)"
   ]
  },
  {
   "cell_type": "markdown",
   "id": "af410e75",
   "metadata": {},
   "source": [
    "Findings:\n",
    "1. Box Plot clearly shows presence of outliers"
   ]
  },
  {
   "cell_type": "markdown",
   "id": "270865ee",
   "metadata": {},
   "source": [
    "#### Bivariate Analysis"
   ]
  },
  {
   "cell_type": "code",
   "execution_count": 17,
   "id": "204263b3",
   "metadata": {},
   "outputs": [],
   "source": [
    "# Mean engagement score per category.\n",
    "mean_engagement_score_per_category = df_train[['category_id','engagement_score']].groupby('category_id').mean().sort_values('engagement_score',ascending=False)\n",
    "# Views per category\n",
    "views_per_category = df_train[['category_id','views']].groupby(['category_id','views']).count().sort_values(by='views',ascending=False)\n",
    "# Followers per category\n",
    "followers_per_category = df_train[['category_id','followers']].groupby(['category_id','followers']).count().sort_values(by='followers',ascending=False)\n",
    "# Average age of user per category\n",
    "age_per_category = df_train[['category_id','age']].groupby('category_id').mean().sort_values(by='age',ascending=False)\n",
    "# Videos per category\n",
    "videos_per_category = df_train[['category_id','video_id']].groupby('category_id').count().sort_values(by='video_id',ascending=False)\n",
    "\n",
    "\n",
    "# Collating all information regarding category_id reated to various other non categorical attributes\n",
    "import functools\n",
    "data_frames = [mean_engagement_score_per_category.reset_index(),views_per_category.reset_index(),followers_per_category.reset_index(),age_per_category.reset_index(),videos_per_category.reset_index()]\n",
    "df_category_analysis = functools.reduce(lambda  left,right: pd.merge(left,right,on=['category_id'],\n",
    "                                            how='inner'), data_frames)"
   ]
  },
  {
   "cell_type": "code",
   "execution_count": 18,
   "id": "f984454e",
   "metadata": {},
   "outputs": [
    {
     "name": "stdout",
     "output_type": "stream",
     "text": [
      "Category having highest average Engagement score : 43\n",
      "Category having highest views : 37\n",
      "Category having highest followers : 1\n",
      "Category having highest no of videos : 5\n"
     ]
    }
   ],
   "source": [
    "print(\"Category having highest average Engagement score : {}\".format(df_category_analysis.sort_values('engagement_score',ascending=False).head(1)['category_id'].iloc[0]))\n",
    "print(\"Category having highest views : {}\".format(df_category_analysis.sort_values('views',ascending=False).head(1)['category_id'].iloc[0]))\n",
    "print(\"Category having highest followers : {}\".format(df_category_analysis.sort_values('followers',ascending=False).head(1)['category_id'].iloc[0]))\n",
    "print(\"Category having highest no of videos : {}\".format(df_category_analysis.sort_values('video_id',ascending=False).head(1)['category_id'].iloc[0]))"
   ]
  },
  {
   "cell_type": "code",
   "execution_count": 19,
   "id": "29e08525",
   "metadata": {},
   "outputs": [
    {
     "data": {
      "text/html": [
       "<div>\n",
       "<style scoped>\n",
       "    .dataframe tbody tr th:only-of-type {\n",
       "        vertical-align: middle;\n",
       "    }\n",
       "\n",
       "    .dataframe tbody tr th {\n",
       "        vertical-align: top;\n",
       "    }\n",
       "\n",
       "    .dataframe thead th {\n",
       "        text-align: right;\n",
       "    }\n",
       "</style>\n",
       "<table border=\"1\" class=\"dataframe\">\n",
       "  <thead>\n",
       "    <tr style=\"text-align: right;\">\n",
       "      <th></th>\n",
       "      <th>category_id</th>\n",
       "      <th>engagement_score</th>\n",
       "      <th>views</th>\n",
       "      <th>followers</th>\n",
       "      <th>age</th>\n",
       "      <th>video_id</th>\n",
       "    </tr>\n",
       "  </thead>\n",
       "  <tbody>\n",
       "    <tr>\n",
       "      <th>0</th>\n",
       "      <td>43</td>\n",
       "      <td>4.043435</td>\n",
       "      <td>617</td>\n",
       "      <td>280</td>\n",
       "      <td>24.783121</td>\n",
       "      <td>1019</td>\n",
       "    </tr>\n",
       "    <tr>\n",
       "      <th>9</th>\n",
       "      <td>1</td>\n",
       "      <td>3.639856</td>\n",
       "      <td>990</td>\n",
       "      <td>360</td>\n",
       "      <td>25.242541</td>\n",
       "      <td>1810</td>\n",
       "    </tr>\n",
       "    <tr>\n",
       "      <th>11</th>\n",
       "      <td>5</td>\n",
       "      <td>3.633308</td>\n",
       "      <td>229</td>\n",
       "      <td>240</td>\n",
       "      <td>24.734452</td>\n",
       "      <td>8104</td>\n",
       "    </tr>\n",
       "    <tr>\n",
       "      <th>35</th>\n",
       "      <td>37</td>\n",
       "      <td>3.314751</td>\n",
       "      <td>1000</td>\n",
       "      <td>180</td>\n",
       "      <td>24.816008</td>\n",
       "      <td>962</td>\n",
       "    </tr>\n",
       "  </tbody>\n",
       "</table>\n",
       "</div>"
      ],
      "text/plain": [
       "    category_id  engagement_score  views  followers        age  video_id\n",
       "0            43          4.043435    617        280  24.783121      1019\n",
       "9             1          3.639856    990        360  25.242541      1810\n",
       "11            5          3.633308    229        240  24.734452      8104\n",
       "35           37          3.314751   1000        180  24.816008       962"
      ]
     },
     "execution_count": 19,
     "metadata": {},
     "output_type": "execute_result"
    }
   ],
   "source": [
    "df_category_analysis[df_category_analysis.category_id.isin([43,37,1,5])]"
   ]
  },
  {
   "cell_type": "markdown",
   "id": "af75474f",
   "metadata": {},
   "source": [
    "Findings :\n",
    "1. We have different top categories based on engagement_score,views and followers.\n",
    "2. Average age across all categories is almost same"
   ]
  },
  {
   "cell_type": "code",
   "execution_count": 20,
   "id": "2322aba1",
   "metadata": {},
   "outputs": [
    {
     "data": {
      "text/plain": [
       "<AxesSubplot:title={'center':'Average engagement score per category'}, xlabel='category_id', ylabel='engagement_score'>"
      ]
     },
     "execution_count": 20,
     "metadata": {},
     "output_type": "execute_result"
    },
    {
     "data": {
      "image/png": "[encoded data removed]",
      "text/plain": [
       "<Figure size 1440x576 with 1 Axes>"
      ]
     },
     "metadata": {},
     "output_type": "display_data"
    }
   ],
   "source": [
    "# Plotting Average engagement score per category\n",
    "sns.set('notebook')\n",
    "plt.figure(figsize=(20,8))\n",
    "plt.title(\"Average engagement score per category\")\n",
    "sns.barplot(x='category_id',y='engagement_score',data=df_category_analysis,order=df_category_analysis.category_id)"
   ]
  },
  {
   "cell_type": "markdown",
   "id": "618b726c",
   "metadata": {},
   "source": [
    "Findings:\n",
    "1. Category 43 has highest engagement score\n",
    "2. Category 45 has lowest engagement score\n",
    "3. There can be a chance that number of videos in 43 is less resulting in high everage engagement score."
   ]
  },
  {
   "cell_type": "code",
   "execution_count": 21,
   "id": "a3aa6bca",
   "metadata": {},
   "outputs": [
    {
     "data": {
      "text/plain": [
       "<AxesSubplot:title={'center':'Videos per category'}, xlabel='category_id', ylabel='video_id'>"
      ]
     },
     "execution_count": 21,
     "metadata": {},
     "output_type": "execute_result"
    },
    {
     "data": {
      "image/png": "[encoded data removed]",
      "text/plain": [
       "<Figure size 1440x576 with 1 Axes>"
      ]
     },
     "metadata": {},
     "output_type": "display_data"
    }
   ],
   "source": [
    "# Plotting no of videos per category\n",
    "sns.set('notebook')\n",
    "plt.figure(figsize=(20,8))\n",
    "plt.title(\"Videos per category\")\n",
    "sns.barplot(x='category_id',y='video_id',data=df_category_analysis,order=df_category_analysis.category_id)"
   ]
  },
  {
   "cell_type": "markdown",
   "id": "b5095d7e",
   "metadata": {},
   "source": [
    "Findings:\n",
    "1. Category 5 has highest number of videos.\n",
    "2. Combining Average Engagement score per category_id and Videos per category we can see category id 43 that has highest average engagement score is actauly having less videos.\n",
    "3. Also combining both plots cateory_id 5 and 8 have good number videos and same time good engagement score."
   ]
  },
  {
   "cell_type": "code",
   "execution_count": 22,
   "id": "79bbb8cc",
   "metadata": {},
   "outputs": [
    {
     "data": {
      "text/plain": [
       "<AxesSubplot:title={'center':'Views per Category'}, xlabel='category_id', ylabel='views'>"
      ]
     },
     "execution_count": 22,
     "metadata": {},
     "output_type": "execute_result"
    },
    {
     "data": {
      "image/png": "[encoded data removed]",
      "text/plain": [
       "<Figure size 1440x576 with 1 Axes>"
      ]
     },
     "metadata": {},
     "output_type": "display_data"
    }
   ],
   "source": [
    "# Plotting Views per Category\n",
    "sns.set('notebook')\n",
    "plt.figure(figsize=(20,8))\n",
    "plt.title(\"Views per Category\")\n",
    "sns.barplot(x='category_id',y='views',data=df_category_analysis,order=df_category_analysis.sort_values('views',ascending=False).category_id)"
   ]
  },
  {
   "cell_type": "code",
   "execution_count": 23,
   "id": "6531a6d3",
   "metadata": {},
   "outputs": [
    {
     "data": {
      "text/plain": [
       "<AxesSubplot:title={'center':'Followers per Category'}, xlabel='category_id', ylabel='followers'>"
      ]
     },
     "execution_count": 23,
     "metadata": {},
     "output_type": "execute_result"
    },
    {
     "data": {
      "image/png": "[encoded data removed]",
      "text/plain": [
       "<Figure size 1440x576 with 1 Axes>"
      ]
     },
     "metadata": {},
     "output_type": "display_data"
    }
   ],
   "source": [
    "# Plotting Followers per Category\n",
    "sns.set('notebook')\n",
    "plt.figure(figsize=(20,8))\n",
    "plt.title(\"Followers per Category\")\n",
    "sns.barplot(x='category_id',y='followers',data=df_category_analysis,order=df_category_analysis.sort_values('followers',ascending=False).category_id)"
   ]
  },
  {
   "cell_type": "markdown",
   "id": "ceae62c2",
   "metadata": {},
   "source": [
    "## Data Wrangling"
   ]
  },
  {
   "cell_type": "code",
   "execution_count": 104,
   "id": "c7b98415",
   "metadata": {},
   "outputs": [],
   "source": [
    "# Loading train and test data\n",
    "df_train = pd.read_csv(\"train_0OECtn8.csv\")\n",
    "df_test = pd.read_csv(\"test_1zqHu22.csv\")"
   ]
  },
  {
   "cell_type": "code",
   "execution_count": 105,
   "id": "cc62e6b3",
   "metadata": {},
   "outputs": [
    {
     "name": "stdout",
     "output_type": "stream",
     "text": [
      "Data points having engagement score of less than 1 : 820\n",
      "Percent of data having engagement score of less than 1 : 1%\n"
     ]
    }
   ],
   "source": [
    "# Percent and count of data having engagement score of less than 1\n",
    "data_lessthan1_eng_score = df_train[df_train['engagement_score'] < 1]['engagement_score'].count()\n",
    "print(\"Data points having engagement score of less than 1 : {}\".format(data_lessthan1_eng_score))\n",
    "print(\"Percent of data having engagement score of less than 1 : {}%\".format(round(data_lessthan1_eng_score*100/df_train.shape[0])))"
   ]
  },
  {
   "cell_type": "code",
   "execution_count": 106,
   "id": "c8094eb6",
   "metadata": {},
   "outputs": [],
   "source": [
    "# Filter out data points that have engagement score less than 1\n",
    "df_train = df_train[df_train['engagement_score'] >= 1]"
   ]
  },
  {
   "cell_type": "code",
   "execution_count": 107,
   "id": "29617e8f",
   "metadata": {},
   "outputs": [],
   "source": [
    "# Dropping irrelevant attributes\n",
    "df_train.drop(['row_id','user_id'],axis=1,inplace=True)\n",
    "df_test.drop(['row_id','user_id'],axis=1,inplace=True)"
   ]
  },
  {
   "cell_type": "code",
   "execution_count": 108,
   "id": "f134daa4",
   "metadata": {},
   "outputs": [],
   "source": [
    "# Transforming target attribute engagement score using square transformation\n",
    "df_train['square_engagement_score']= np.square(df_train['engagement_score'])"
   ]
  },
  {
   "cell_type": "code",
   "execution_count": 109,
   "id": "e6948a3f",
   "metadata": {},
   "outputs": [
    {
     "data": {
      "text/html": [
       "<div>\n",
       "<style scoped>\n",
       "    .dataframe tbody tr th:only-of-type {\n",
       "        vertical-align: middle;\n",
       "    }\n",
       "\n",
       "    .dataframe tbody tr th {\n",
       "        vertical-align: top;\n",
       "    }\n",
       "\n",
       "    .dataframe thead th {\n",
       "        text-align: right;\n",
       "    }\n",
       "</style>\n",
       "<table border=\"1\" class=\"dataframe\">\n",
       "  <thead>\n",
       "    <tr style=\"text-align: right;\">\n",
       "      <th></th>\n",
       "      <th>category_id</th>\n",
       "      <th>video_id</th>\n",
       "      <th>age</th>\n",
       "      <th>gender</th>\n",
       "      <th>profession</th>\n",
       "      <th>followers</th>\n",
       "      <th>views</th>\n",
       "      <th>engagement_score</th>\n",
       "      <th>square_engagement_score</th>\n",
       "    </tr>\n",
       "  </thead>\n",
       "  <tbody>\n",
       "    <tr>\n",
       "      <th>0</th>\n",
       "      <td>37</td>\n",
       "      <td>128</td>\n",
       "      <td>24</td>\n",
       "      <td>Male</td>\n",
       "      <td>Student</td>\n",
       "      <td>180</td>\n",
       "      <td>1000</td>\n",
       "      <td>4.33</td>\n",
       "      <td>18.7489</td>\n",
       "    </tr>\n",
       "    <tr>\n",
       "      <th>1</th>\n",
       "      <td>32</td>\n",
       "      <td>132</td>\n",
       "      <td>14</td>\n",
       "      <td>Female</td>\n",
       "      <td>Student</td>\n",
       "      <td>330</td>\n",
       "      <td>714</td>\n",
       "      <td>1.79</td>\n",
       "      <td>3.2041</td>\n",
       "    </tr>\n",
       "    <tr>\n",
       "      <th>2</th>\n",
       "      <td>12</td>\n",
       "      <td>24</td>\n",
       "      <td>19</td>\n",
       "      <td>Male</td>\n",
       "      <td>Student</td>\n",
       "      <td>180</td>\n",
       "      <td>138</td>\n",
       "      <td>4.35</td>\n",
       "      <td>18.9225</td>\n",
       "    </tr>\n",
       "    <tr>\n",
       "      <th>3</th>\n",
       "      <td>23</td>\n",
       "      <td>112</td>\n",
       "      <td>19</td>\n",
       "      <td>Male</td>\n",
       "      <td>Student</td>\n",
       "      <td>220</td>\n",
       "      <td>613</td>\n",
       "      <td>3.77</td>\n",
       "      <td>14.2129</td>\n",
       "    </tr>\n",
       "    <tr>\n",
       "      <th>4</th>\n",
       "      <td>23</td>\n",
       "      <td>112</td>\n",
       "      <td>27</td>\n",
       "      <td>Male</td>\n",
       "      <td>Working Professional</td>\n",
       "      <td>220</td>\n",
       "      <td>613</td>\n",
       "      <td>3.13</td>\n",
       "      <td>9.7969</td>\n",
       "    </tr>\n",
       "  </tbody>\n",
       "</table>\n",
       "</div>"
      ],
      "text/plain": [
       "   category_id  video_id  age  gender            profession  followers  views  \\\n",
       "0           37       128   24    Male               Student        180   1000   \n",
       "1           32       132   14  Female               Student        330    714   \n",
       "2           12        24   19    Male               Student        180    138   \n",
       "3           23       112   19    Male               Student        220    613   \n",
       "4           23       112   27    Male  Working Professional        220    613   \n",
       "\n",
       "   engagement_score  square_engagement_score  \n",
       "0              4.33                  18.7489  \n",
       "1              1.79                   3.2041  \n",
       "2              4.35                  18.9225  \n",
       "3              3.77                  14.2129  \n",
       "4              3.13                   9.7969  "
      ]
     },
     "execution_count": 109,
     "metadata": {},
     "output_type": "execute_result"
    }
   ],
   "source": [
    "df_train.head()"
   ]
  },
  {
   "cell_type": "code",
   "execution_count": 110,
   "id": "043915df",
   "metadata": {},
   "outputs": [],
   "source": [
    "dummy_df = pd.get_dummies(df_train,columns=['gender','profession'])\n",
    "feature = pd.concat([dummy_df.iloc[:,-5:],df_train.iloc[:,[0,1,2,5,6]]],axis=1)\n",
    "label = df_train.square_engagement_score"
   ]
  },
  {
   "cell_type": "code",
   "execution_count": 116,
   "id": "fdc5cc86",
   "metadata": {},
   "outputs": [
    {
     "data": {
      "text/html": [
       "<div>\n",
       "<style scoped>\n",
       "    .dataframe tbody tr th:only-of-type {\n",
       "        vertical-align: middle;\n",
       "    }\n",
       "\n",
       "    .dataframe tbody tr th {\n",
       "        vertical-align: top;\n",
       "    }\n",
       "\n",
       "    .dataframe thead th {\n",
       "        text-align: right;\n",
       "    }\n",
       "</style>\n",
       "<table border=\"1\" class=\"dataframe\">\n",
       "  <thead>\n",
       "    <tr style=\"text-align: right;\">\n",
       "      <th></th>\n",
       "      <th>gender_Female</th>\n",
       "      <th>gender_Male</th>\n",
       "      <th>profession_Other</th>\n",
       "      <th>profession_Student</th>\n",
       "      <th>profession_Working Professional</th>\n",
       "      <th>category_id</th>\n",
       "      <th>video_id</th>\n",
       "      <th>age</th>\n",
       "      <th>followers</th>\n",
       "      <th>views</th>\n",
       "    </tr>\n",
       "  </thead>\n",
       "  <tbody>\n",
       "    <tr>\n",
       "      <th>0</th>\n",
       "      <td>0</td>\n",
       "      <td>1</td>\n",
       "      <td>0</td>\n",
       "      <td>1</td>\n",
       "      <td>0</td>\n",
       "      <td>37</td>\n",
       "      <td>128</td>\n",
       "      <td>24</td>\n",
       "      <td>180</td>\n",
       "      <td>1000</td>\n",
       "    </tr>\n",
       "    <tr>\n",
       "      <th>1</th>\n",
       "      <td>1</td>\n",
       "      <td>0</td>\n",
       "      <td>0</td>\n",
       "      <td>1</td>\n",
       "      <td>0</td>\n",
       "      <td>32</td>\n",
       "      <td>132</td>\n",
       "      <td>14</td>\n",
       "      <td>330</td>\n",
       "      <td>714</td>\n",
       "    </tr>\n",
       "    <tr>\n",
       "      <th>2</th>\n",
       "      <td>0</td>\n",
       "      <td>1</td>\n",
       "      <td>0</td>\n",
       "      <td>1</td>\n",
       "      <td>0</td>\n",
       "      <td>12</td>\n",
       "      <td>24</td>\n",
       "      <td>19</td>\n",
       "      <td>180</td>\n",
       "      <td>138</td>\n",
       "    </tr>\n",
       "    <tr>\n",
       "      <th>3</th>\n",
       "      <td>0</td>\n",
       "      <td>1</td>\n",
       "      <td>0</td>\n",
       "      <td>1</td>\n",
       "      <td>0</td>\n",
       "      <td>23</td>\n",
       "      <td>112</td>\n",
       "      <td>19</td>\n",
       "      <td>220</td>\n",
       "      <td>613</td>\n",
       "    </tr>\n",
       "    <tr>\n",
       "      <th>4</th>\n",
       "      <td>0</td>\n",
       "      <td>1</td>\n",
       "      <td>0</td>\n",
       "      <td>0</td>\n",
       "      <td>1</td>\n",
       "      <td>23</td>\n",
       "      <td>112</td>\n",
       "      <td>27</td>\n",
       "      <td>220</td>\n",
       "      <td>613</td>\n",
       "    </tr>\n",
       "    <tr>\n",
       "      <th>...</th>\n",
       "      <td>...</td>\n",
       "      <td>...</td>\n",
       "      <td>...</td>\n",
       "      <td>...</td>\n",
       "      <td>...</td>\n",
       "      <td>...</td>\n",
       "      <td>...</td>\n",
       "      <td>...</td>\n",
       "      <td>...</td>\n",
       "      <td>...</td>\n",
       "    </tr>\n",
       "    <tr>\n",
       "      <th>89192</th>\n",
       "      <td>0</td>\n",
       "      <td>1</td>\n",
       "      <td>1</td>\n",
       "      <td>0</td>\n",
       "      <td>0</td>\n",
       "      <td>15</td>\n",
       "      <td>32</td>\n",
       "      <td>25</td>\n",
       "      <td>340</td>\n",
       "      <td>662</td>\n",
       "    </tr>\n",
       "    <tr>\n",
       "      <th>89193</th>\n",
       "      <td>0</td>\n",
       "      <td>1</td>\n",
       "      <td>1</td>\n",
       "      <td>0</td>\n",
       "      <td>0</td>\n",
       "      <td>20</td>\n",
       "      <td>47</td>\n",
       "      <td>31</td>\n",
       "      <td>240</td>\n",
       "      <td>892</td>\n",
       "    </tr>\n",
       "    <tr>\n",
       "      <th>89194</th>\n",
       "      <td>0</td>\n",
       "      <td>1</td>\n",
       "      <td>0</td>\n",
       "      <td>1</td>\n",
       "      <td>0</td>\n",
       "      <td>16</td>\n",
       "      <td>97</td>\n",
       "      <td>25</td>\n",
       "      <td>270</td>\n",
       "      <td>462</td>\n",
       "    </tr>\n",
       "    <tr>\n",
       "      <th>89195</th>\n",
       "      <td>0</td>\n",
       "      <td>1</td>\n",
       "      <td>0</td>\n",
       "      <td>0</td>\n",
       "      <td>1</td>\n",
       "      <td>9</td>\n",
       "      <td>18</td>\n",
       "      <td>35</td>\n",
       "      <td>230</td>\n",
       "      <td>819</td>\n",
       "    </tr>\n",
       "    <tr>\n",
       "      <th>89196</th>\n",
       "      <td>0</td>\n",
       "      <td>1</td>\n",
       "      <td>0</td>\n",
       "      <td>1</td>\n",
       "      <td>0</td>\n",
       "      <td>25</td>\n",
       "      <td>150</td>\n",
       "      <td>13</td>\n",
       "      <td>240</td>\n",
       "      <td>317</td>\n",
       "    </tr>\n",
       "  </tbody>\n",
       "</table>\n",
       "<p>88377 rows × 10 columns</p>\n",
       "</div>"
      ],
      "text/plain": [
       "       gender_Female  gender_Male  profession_Other  profession_Student  \\\n",
       "0                  0            1                 0                   1   \n",
       "1                  1            0                 0                   1   \n",
       "2                  0            1                 0                   1   \n",
       "3                  0            1                 0                   1   \n",
       "4                  0            1                 0                   0   \n",
       "...              ...          ...               ...                 ...   \n",
       "89192              0            1                 1                   0   \n",
       "89193              0            1                 1                   0   \n",
       "89194              0            1                 0                   1   \n",
       "89195              0            1                 0                   0   \n",
       "89196              0            1                 0                   1   \n",
       "\n",
       "       profession_Working Professional  category_id  video_id  age  followers  \\\n",
       "0                                    0           37       128   24        180   \n",
       "1                                    0           32       132   14        330   \n",
       "2                                    0           12        24   19        180   \n",
       "3                                    0           23       112   19        220   \n",
       "4                                    1           23       112   27        220   \n",
       "...                                ...          ...       ...  ...        ...   \n",
       "89192                                0           15        32   25        340   \n",
       "89193                                0           20        47   31        240   \n",
       "89194                                0           16        97   25        270   \n",
       "89195                                1            9        18   35        230   \n",
       "89196                                0           25       150   13        240   \n",
       "\n",
       "       views  \n",
       "0       1000  \n",
       "1        714  \n",
       "2        138  \n",
       "3        613  \n",
       "4        613  \n",
       "...      ...  \n",
       "89192    662  \n",
       "89193    892  \n",
       "89194    462  \n",
       "89195    819  \n",
       "89196    317  \n",
       "\n",
       "[88377 rows x 10 columns]"
      ]
     },
     "execution_count": 116,
     "metadata": {},
     "output_type": "execute_result"
    }
   ],
   "source": [
    "feature"
   ]
  },
  {
   "cell_type": "raw",
   "id": "7cd53728",
   "metadata": {},
   "source": [
    "# Label Encoding categorical attributes gender and profession\n",
    "lb1=LabelEncoder()\n",
    "lb2=LabelEncoder()\n",
    "df_train['gender'] = lb1.fit_transform(df_train.gender)\n",
    "df_train['profession'] = lb2.fit_transform(df_train.profession)\n",
    "\n",
    "df_test['gender'] = lb1.transform(df_test.gender)\n",
    "df_test['profession'] = lb2.transform(df_test.profession)"
   ]
  },
  {
   "cell_type": "code",
   "execution_count": 112,
   "id": "ebe9e04c",
   "metadata": {},
   "outputs": [
    {
     "data": {
      "text/plain": [
       "0        18.7489\n",
       "1         3.2041\n",
       "2        18.9225\n",
       "3        14.2129\n",
       "4         9.7969\n",
       "          ...   \n",
       "89192    15.2881\n",
       "89193    12.6736\n",
       "89194    17.8929\n",
       "89195    14.2129\n",
       "89196    18.5761\n",
       "Name: square_engagement_score, Length: 88377, dtype: float64"
      ]
     },
     "execution_count": 112,
     "metadata": {},
     "output_type": "execute_result"
    }
   ],
   "source": [
    "label"
   ]
  },
  {
   "cell_type": "code",
   "execution_count": 102,
   "id": "c07d65f5",
   "metadata": {},
   "outputs": [],
   "source": [
    "featureAllIn = np.append(np.ones((88377,1)).astype(int),df_train,axis=1)"
   ]
  },
  {
   "cell_type": "code",
   "execution_count": 103,
   "id": "75d2afb4",
   "metadata": {},
   "outputs": [
    {
     "data": {
      "text/plain": [
       "array([[   1,    0,    1, ...,   24,  180, 1000],\n",
       "       [   1,    1,    0, ...,   14,  330,  714],\n",
       "       [   1,    0,    1, ...,   19,  180,  138],\n",
       "       ...,\n",
       "       [   1,    0,    1, ...,   25,  270,  462],\n",
       "       [   1,    0,    1, ...,   35,  230,  819],\n",
       "       [   1,    0,    1, ...,   13,  240,  317]], dtype=int64)"
      ]
     },
     "execution_count": 103,
     "metadata": {},
     "output_type": "execute_result"
    }
   ],
   "source": [
    "featureAllIn"
   ]
  },
  {
   "cell_type": "code",
   "execution_count": 114,
   "id": "a5cd0b4e",
   "metadata": {},
   "outputs": [],
   "source": [
    "model = stat.OLS(endog=label,exog=featureAllIn).fit()"
   ]
  },
  {
   "cell_type": "code",
   "execution_count": 115,
   "id": "b4443936",
   "metadata": {},
   "outputs": [
    {
     "data": {
      "text/html": [
       "<table class=\"simpletable\">\n",
       "<caption>OLS Regression Results</caption>\n",
       "<tr>\n",
       "  <th>Dep. Variable:</th>    <td>square_engagement_score</td> <th>  R-squared:         </th>  <td>   0.275</td>  \n",
       "</tr>\n",
       "<tr>\n",
       "  <th>Model:</th>                      <td>OLS</td>           <th>  Adj. R-squared:    </th>  <td>   0.275</td>  \n",
       "</tr>\n",
       "<tr>\n",
       "  <th>Method:</th>                <td>Least Squares</td>      <th>  F-statistic:       </th>  <td>   4198.</td>  \n",
       "</tr>\n",
       "<tr>\n",
       "  <th>Date:</th>                <td>Thu, 17 Feb 2022</td>     <th>  Prob (F-statistic):</th>   <td>  0.00</td>   \n",
       "</tr>\n",
       "<tr>\n",
       "  <th>Time:</th>                    <td>21:56:39</td>         <th>  Log-Likelihood:    </th> <td>-2.5973e+05</td>\n",
       "</tr>\n",
       "<tr>\n",
       "  <th>No. Observations:</th>         <td> 88377</td>          <th>  AIC:               </th>  <td>5.195e+05</td> \n",
       "</tr>\n",
       "<tr>\n",
       "  <th>Df Residuals:</th>             <td> 88368</td>          <th>  BIC:               </th>  <td>5.196e+05</td> \n",
       "</tr>\n",
       "<tr>\n",
       "  <th>Df Model:</th>                 <td>     8</td>          <th>                     </th>      <td> </td>     \n",
       "</tr>\n",
       "<tr>\n",
       "  <th>Covariance Type:</th>         <td>nonrobust</td>        <th>                     </th>      <td> </td>     \n",
       "</tr>\n",
       "</table>\n",
       "<table class=\"simpletable\">\n",
       "<tr>\n",
       "    <td></td>       <th>coef</th>     <th>std err</th>      <th>t</th>      <th>P>|t|</th>  <th>[0.025</th>    <th>0.975]</th>  \n",
       "</tr>\n",
       "<tr>\n",
       "  <th>const</th> <td>    6.6850</td> <td>    0.064</td> <td>  105.076</td> <td> 0.000</td> <td>    6.560</td> <td>    6.810</td>\n",
       "</tr>\n",
       "<tr>\n",
       "  <th>x1</th>    <td>    1.2007</td> <td>    0.036</td> <td>   33.454</td> <td> 0.000</td> <td>    1.130</td> <td>    1.271</td>\n",
       "</tr>\n",
       "<tr>\n",
       "  <th>x2</th>    <td>    5.4843</td> <td>    0.035</td> <td>  156.645</td> <td> 0.000</td> <td>    5.416</td> <td>    5.553</td>\n",
       "</tr>\n",
       "<tr>\n",
       "  <th>x3</th>    <td>    1.7721</td> <td>    0.038</td> <td>   46.031</td> <td> 0.000</td> <td>    1.697</td> <td>    1.848</td>\n",
       "</tr>\n",
       "<tr>\n",
       "  <th>x4</th>    <td>    4.6513</td> <td>    0.028</td> <td>  163.292</td> <td> 0.000</td> <td>    4.595</td> <td>    4.707</td>\n",
       "</tr>\n",
       "<tr>\n",
       "  <th>x5</th>    <td>    0.2616</td> <td>    0.042</td> <td>    6.224</td> <td> 0.000</td> <td>    0.179</td> <td>    0.344</td>\n",
       "</tr>\n",
       "<tr>\n",
       "  <th>x6</th>    <td>   -0.0392</td> <td>    0.002</td> <td>  -24.515</td> <td> 0.000</td> <td>   -0.042</td> <td>   -0.036</td>\n",
       "</tr>\n",
       "<tr>\n",
       "  <th>x7</th>    <td>    0.0023</td> <td>    0.000</td> <td>    5.842</td> <td> 0.000</td> <td>    0.001</td> <td>    0.003</td>\n",
       "</tr>\n",
       "<tr>\n",
       "  <th>x8</th>    <td>    0.0050</td> <td>    0.003</td> <td>    1.776</td> <td> 0.076</td> <td>   -0.001</td> <td>    0.011</td>\n",
       "</tr>\n",
       "<tr>\n",
       "  <th>x9</th>    <td>    0.0029</td> <td>    0.000</td> <td>    8.002</td> <td> 0.000</td> <td>    0.002</td> <td>    0.004</td>\n",
       "</tr>\n",
       "<tr>\n",
       "  <th>x10</th>   <td>   -0.0012</td> <td> 6.21e-05</td> <td>  -20.008</td> <td> 0.000</td> <td>   -0.001</td> <td>   -0.001</td>\n",
       "</tr>\n",
       "</table>\n",
       "<table class=\"simpletable\">\n",
       "<tr>\n",
       "  <th>Omnibus:</th>       <td>61.118</td> <th>  Durbin-Watson:     </th> <td>   2.004</td>\n",
       "</tr>\n",
       "<tr>\n",
       "  <th>Prob(Omnibus):</th> <td> 0.000</td> <th>  Jarque-Bera (JB):  </th> <td>  54.734</td>\n",
       "</tr>\n",
       "<tr>\n",
       "  <th>Skew:</th>          <td>-0.017</td> <th>  Prob(JB):          </th> <td>1.30e-12</td>\n",
       "</tr>\n",
       "<tr>\n",
       "  <th>Kurtosis:</th>      <td> 2.883</td> <th>  Cond. No.          </th> <td>1.49e+18</td>\n",
       "</tr>\n",
       "</table><br/><br/>Notes:<br/>[1] Standard Errors assume that the covariance matrix of the errors is correctly specified.<br/>[2] The smallest eigenvalue is 1.54e-26. This might indicate that there are<br/>strong multicollinearity problems or that the design matrix is singular."
      ],
      "text/plain": [
       "<class 'statsmodels.iolib.summary.Summary'>\n",
       "\"\"\"\n",
       "                               OLS Regression Results                              \n",
       "===================================================================================\n",
       "Dep. Variable:     square_engagement_score   R-squared:                       0.275\n",
       "Model:                                 OLS   Adj. R-squared:                  0.275\n",
       "Method:                      Least Squares   F-statistic:                     4198.\n",
       "Date:                     Thu, 17 Feb 2022   Prob (F-statistic):               0.00\n",
       "Time:                             21:56:39   Log-Likelihood:            -2.5973e+05\n",
       "No. Observations:                    88377   AIC:                         5.195e+05\n",
       "Df Residuals:                        88368   BIC:                         5.196e+05\n",
       "Df Model:                                8                                         \n",
       "Covariance Type:                 nonrobust                                         \n",
       "==============================================================================\n",
       "                 coef    std err          t      P>|t|      [0.025      0.975]\n",
       "------------------------------------------------------------------------------\n",
       "const          6.6850      0.064    105.076      0.000       6.560       6.810\n",
       "x1             1.2007      0.036     33.454      0.000       1.130       1.271\n",
       "x2             5.4843      0.035    156.645      0.000       5.416       5.553\n",
       "x3             1.7721      0.038     46.031      0.000       1.697       1.848\n",
       "x4             4.6513      0.028    163.292      0.000       4.595       4.707\n",
       "x5             0.2616      0.042      6.224      0.000       0.179       0.344\n",
       "x6            -0.0392      0.002    -24.515      0.000      -0.042      -0.036\n",
       "x7             0.0023      0.000      5.842      0.000       0.001       0.003\n",
       "x8             0.0050      0.003      1.776      0.076      -0.001       0.011\n",
       "x9             0.0029      0.000      8.002      0.000       0.002       0.004\n",
       "x10           -0.0012   6.21e-05    -20.008      0.000      -0.001      -0.001\n",
       "==============================================================================\n",
       "Omnibus:                       61.118   Durbin-Watson:                   2.004\n",
       "Prob(Omnibus):                  0.000   Jarque-Bera (JB):               54.734\n",
       "Skew:                          -0.017   Prob(JB):                     1.30e-12\n",
       "Kurtosis:                       2.883   Cond. No.                     1.49e+18\n",
       "==============================================================================\n",
       "\n",
       "Notes:\n",
       "[1] Standard Errors assume that the covariance matrix of the errors is correctly specified.\n",
       "[2] The smallest eigenvalue is 1.54e-26. This might indicate that there are\n",
       "strong multicollinearity problems or that the design matrix is singular.\n",
       "\"\"\""
      ]
     },
     "execution_count": 115,
     "metadata": {},
     "output_type": "execute_result"
    }
   ],
   "source": [
    "model.summary()"
   ]
  },
  {
   "cell_type": "code",
   "execution_count": null,
   "id": "0c14ee1d",
   "metadata": {},
   "outputs": [],
   "source": []
  },
  {
   "cell_type": "markdown",
   "id": "e4562321",
   "metadata": {},
   "source": [
    "## Model Building"
   ]
  },
  {
   "cell_type": "code",
   "execution_count": 29,
   "id": "f5f4d402",
   "metadata": {},
   "outputs": [],
   "source": [
    "# Splitting features/attributes and labels/target\n",
    "X = df_train.drop(['engagement_score','square_engagement_score'],axis=1)\n",
    "y = df_train.square_engagement_score"
   ]
  },
  {
   "cell_type": "markdown",
   "id": "b4cfac4d",
   "metadata": {},
   "source": [
    "#### Best data split check"
   ]
  },
  {
   "cell_type": "code",
   "execution_count": 121,
   "id": "679e60e1",
   "metadata": {},
   "outputs": [],
   "source": [
    "# Function to check best split of data to achieve maximum r2 score and generalization\n",
    "def kFoldBestSplit(X,modelAlgo,getSplit=False,split_num=0):\n",
    "    kfold = KFold(n_splits=10, #Use the same CV values that was applied in cross_val_score\n",
    "             shuffle=True,\n",
    "             random_state = 1) # To ensure the data is not randomized at every iteration\n",
    "\n",
    "    # 3. initialize for loop to identify which sample gives the best score and which sample is the best \n",
    "    #.   training sample\n",
    "\n",
    "    counter = 0\n",
    "\n",
    "    for train,test in kfold.split(X):\n",
    "    \n",
    "        #Counter will help you track the sample split\n",
    "        counter += 1\n",
    "        \n",
    "        X_train,X_test = X.iloc[train],X.iloc[test]\n",
    "        y_train,y_test = y.iloc[train],y.iloc[test]\n",
    "        \n",
    "        if getSplit and counter == split_num:\n",
    "            #Extract the training set and testing set for specific split\n",
    "            return (X_train,X_test,y_train,y_test)\n",
    "        \n",
    "        if not getSplit:\n",
    "            #Fit the model \n",
    "            modelAlgo.fit(X_train,y_train)\n",
    "    \n",
    "            if modelAlgo.score(X_test,y_test) >= 0.20:\n",
    "                print(\"Test Score {} Train Score {} for Sample Split {}\".format(modelAlgo.score(X_test,y_test),modelAlgo.score(X_train,y_train),counter))"
   ]
  },
  {
   "cell_type": "markdown",
   "id": "88bbd9e4",
   "metadata": {},
   "source": [
    "### Linear Regression"
   ]
  },
  {
   "cell_type": "code",
   "execution_count": 135,
   "id": "0493757f",
   "metadata": {},
   "outputs": [],
   "source": [
    "rb = RobustScaler()\n",
    "feature_trns = rb.fit_transform(feature)"
   ]
  },
  {
   "cell_type": "code",
   "execution_count": 136,
   "id": "5411ed9a",
   "metadata": {},
   "outputs": [
    {
     "data": {
      "text/plain": [
       "array([[ 0.        ,  0.        ,  0.        , ...,  0.07142857,\n",
       "        -1.2       ,  1.09896907],\n",
       "       [ 1.        , -1.        ,  0.        , ..., -0.64285714,\n",
       "         1.8       ,  0.50927835],\n",
       "       [ 0.        ,  0.        ,  0.        , ..., -0.28571429,\n",
       "        -1.2       , -0.67835052],\n",
       "       ...,\n",
       "       [ 0.        ,  0.        ,  0.        , ...,  0.14285714,\n",
       "         0.6       , -0.01030928],\n",
       "       [ 0.        ,  0.        ,  0.        , ...,  0.85714286,\n",
       "        -0.2       ,  0.7257732 ],\n",
       "       [ 0.        ,  0.        ,  0.        , ..., -0.71428571,\n",
       "         0.        , -0.30927835]])"
      ]
     },
     "execution_count": 136,
     "metadata": {},
     "output_type": "execute_result"
    }
   ],
   "source": [
    "feature_trns"
   ]
  },
  {
   "cell_type": "code",
   "execution_count": 142,
   "id": "0ec9fe26",
   "metadata": {},
   "outputs": [
    {
     "data": {
      "text/plain": [
       "LinearRegression()"
      ]
     },
     "execution_count": 142,
     "metadata": {},
     "output_type": "execute_result"
    }
   ],
   "source": [
    "ln = LinearRegression()\n",
    "ln.fit(feature_trns,label)"
   ]
  },
  {
   "cell_type": "code",
   "execution_count": 152,
   "id": "c15022dd",
   "metadata": {},
   "outputs": [],
   "source": [
    "X_train,X_valid,y_train,y_valid = train_test_split(feature_trns,label,test_size=0.2,random_state=100)"
   ]
  },
  {
   "cell_type": "code",
   "execution_count": 153,
   "id": "3f57d73b",
   "metadata": {},
   "outputs": [
    {
     "name": "stdout",
     "output_type": "stream",
     "text": [
      "Test Score 0.279565951284245 Train Score 0.27429295197556314 for Sample Split\n"
     ]
    }
   ],
   "source": [
    "# Fitting the model with using best split and checking score\n",
    "ln.fit(X_train,y_train)\n",
    "print(\"Test Score {} Train Score {} for Sample Split\".format(ln.score(X_valid,y_valid),ln.score(X_train,y_train)))"
   ]
  },
  {
   "cell_type": "code",
   "execution_count": null,
   "id": "ca21a3b8",
   "metadata": {},
   "outputs": [],
   "source": []
  },
  {
   "cell_type": "code",
   "execution_count": null,
   "id": "4c2eb75f",
   "metadata": {},
   "outputs": [],
   "source": []
  },
  {
   "cell_type": "code",
   "execution_count": 31,
   "id": "9a95536a",
   "metadata": {},
   "outputs": [],
   "source": [
    "# XGB regressor\n",
    "xgb = xgboost.XGBRegressor(n_estimators=120,max_depth=5,learning_rate=0.090)"
   ]
  },
  {
   "cell_type": "code",
   "execution_count": null,
   "id": "a577e9a3",
   "metadata": {},
   "outputs": [],
   "source": []
  },
  {
   "cell_type": "code",
   "execution_count": null,
   "id": "7553e81c",
   "metadata": {},
   "outputs": [],
   "source": []
  },
  {
   "cell_type": "code",
   "execution_count": null,
   "id": "0d0e5752",
   "metadata": {},
   "outputs": [],
   "source": []
  },
  {
   "cell_type": "code",
   "execution_count": 33,
   "id": "8909a5a7",
   "metadata": {},
   "outputs": [],
   "source": [
    "# Best score achieved is with Sample split 3\n",
    "best_split = kFoldBestSplit(X,xgb,True,3)\n",
    "X_train,X_valid,y_train,y_valid = best_split[0],best_split[1],best_split[2],best_split[3]"
   ]
  },
  {
   "cell_type": "code",
   "execution_count": 34,
   "id": "a73db9a1",
   "metadata": {},
   "outputs": [
    {
     "name": "stdout",
     "output_type": "stream",
     "text": [
      "Test Score 0.3834336794176537 Train Score 0.3730762965416783 for Sample Split\n"
     ]
    }
   ],
   "source": [
    "# Fitting the model with using best split and checking score\n",
    "xgb.fit(X_train,y_train)\n",
    "print(\"Test Score {} Train Score {} for Sample Split\".format(xgb.score(X_valid,y_valid),xgb.score(X_train,y_train)))"
   ]
  },
  {
   "cell_type": "markdown",
   "id": "60dc0ec6",
   "metadata": {},
   "source": [
    " #### Predicting engagement score of test data set"
   ]
  },
  {
   "cell_type": "code",
   "execution_count": 35,
   "id": "78226b0b",
   "metadata": {},
   "outputs": [],
   "source": [
    "submission = pd.read_csv('sample_submission_JPlpRcN.csv')\n",
    "# Final prediction. We are converting the target data back to normal as it was squared as part of training\n",
    "final_predictions = np.sqrt(xgb.predict(df_test))\n",
    "submission['engagement_score'] = final_predictions\n",
    "submission.to_csv('my_submission.csv', index=False)"
   ]
  }
 ],
 "metadata": {
  "kernelspec": {
   "display_name": "Python 3 (ipykernel)",
   "language": "python",
   "name": "python3"
  },
  "language_info": {
   "codemirror_mode": {
    "name": "ipython",
    "version": 3
   },
   "file_extension": ".py",
   "mimetype": "text/x-python",
   "name": "python",
   "nbconvert_exporter": "python",
   "pygments_lexer": "ipython3",
   "version": "3.7.11"
  }
 },
 "nbformat": 4,
 "nbformat_minor": 5
}
